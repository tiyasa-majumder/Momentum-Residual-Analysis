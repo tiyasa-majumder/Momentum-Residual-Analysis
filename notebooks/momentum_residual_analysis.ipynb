{
 "cells": [
  {
   "cell_type": "markdown",
   "metadata": {},
   "source": [
    "# Residual Momentum Strategy Analysis\n",
    "\n",
    "This notebook implements and analyzes the Residual Momentum strategy for NYSE stocks."
   ]
  },
  {
   "cell_type": "code",
   "execution_count": null,
   "metadata": {},
   "outputs": [],
   "source": [
    "import sys\n",
    "\n",
    "sys.path.append(\"../src\")\n",
    "\n",
    "import random\n",
    "from datetime import datetime, timedelta\n",
    "\n",
    "import pandas as pd\n",
    "\n",
    "from data_collection import get_fama_french_factors, get_stock_data\n",
    "from preprocessing import calculate_returns\n",
    "from strategy import (\n",
    "    calculate_adjusted_residuals,\n",
    "    calculate_residuals,\n",
    "    create_portfolio,\n",
    "    fit_ff_models,\n",
    ")\n",
    "from visualization import plot_adjusted_residuals, plot_prices"
   ]
  },
  {
   "cell_type": "markdown",
   "metadata": {},
   "source": [
    "## 1. Data Collection"
   ]
  },
  {
   "cell_type": "code",
   "execution_count": null,
   "metadata": {},
   "outputs": [],
   "source": [
    "# Upload an Excel file containing stock data\n",
    "stocks_df = pd.read_excel('../data/stocks.xlsx', skiprows=1)\n",
    "\n",
    "# Delete the first column from the DataFrame\n",
    "stocks_df = stocks_df.iloc[:, 1:]\n",
    "\n",
    "# Display the first rows of the resulting DataFrame\n",
    "stocks_df.head()"
   ]
  },
  {
   "cell_type": "code",
   "execution_count": null,
   "metadata": {},
   "outputs": [],
   "source": [
    "# Define analysis period\n",
    "end_date = datetime(2024, 3, 31)\n",
    "start_date = end_date - timedelta(days=365*5)  # 5 years of data\n",
    "\n",
    "# Get list of NYSE stocks\n",
    "stocks_df = stocks_df[stocks_df[\"Exchange\"] == \"NYSE\"]\n",
    "\n",
    "# Get a list of symbols from the filtered stocks\n",
    "nyse_stocks = stocks_df[\"Symbol\"].str.replace('.K', '', regex=False).tolist()\n",
    "\n",
    "# Download data\n",
    "stock_data = get_stock_data(nyse_stocks, start_date, end_date)\n",
    "ff_factors = get_fama_french_factors(start_date, end_date)"
   ]
  },
  {
   "cell_type": "code",
   "execution_count": null,
   "metadata": {},
   "outputs": [],
   "source": [
    "# Calculate the proportion of stocks with missing data\n",
    "missing_stocks = stock_data.isnull().sum() / len(stock_data)\n",
    "\n",
    "# List the stocks that will not be considered for the analysis\n",
    "missing_stocks = missing_stocks[missing_stocks == 1].index\n",
    "\n",
    "# Define the list of stocks with available data for analysis\n",
    "available_stocks = list(set(nyse_stocks) - set(missing_stocks))"
   ]
  },
  {
   "cell_type": "code",
   "execution_count": null,
   "metadata": {},
   "outputs": [],
   "source": [
    "# List of stock symbols\n",
    "some_stocks = random.sample(available_stocks, 10)\n",
    "\n",
    "plot_prices(some_stocks, stock_data)"
   ]
  },
  {
   "cell_type": "markdown",
   "metadata": {},
   "source": [
    "## 2. Data Preprocessing"
   ]
  },
  {
   "cell_type": "code",
   "execution_count": 10,
   "metadata": {},
   "outputs": [],
   "source": [
    "returns_df = calculate_returns(stock_data)"
   ]
  },
  {
   "cell_type": "markdown",
   "metadata": {},
   "source": [
    "## 3. Strategy Implementation"
   ]
  },
  {
   "cell_type": "code",
   "execution_count": 11,
   "metadata": {},
   "outputs": [],
   "source": [
    "ff_models = fit_ff_models(returns_df, ff_factors, available_stocks)\n",
    "residual_df = calculate_residuals(returns_df, ff_models, ff_factors, available_stocks)"
   ]
  },
  {
   "cell_type": "code",
   "execution_count": 13,
   "metadata": {},
   "outputs": [],
   "source": [
    "risk_adjusted_residuals = calculate_adjusted_residuals(residual_df)\n",
    "buy_assets, sell_assets = create_portfolio(risk_adjusted_residuals, top_pct=10, bottom_pct=10)\n",
    "risk_adjusted_residuals.to_csv('../results/portfolio_performance.csv')"
   ]
  },
  {
   "cell_type": "markdown",
   "metadata": {},
   "source": [
    "### 3.1 Portfolio"
   ]
  },
  {
   "cell_type": "code",
   "execution_count": null,
   "metadata": {},
   "outputs": [],
   "source": [
    "buy_assets"
   ]
  },
  {
   "cell_type": "code",
   "execution_count": null,
   "metadata": {},
   "outputs": [],
   "source": [
    "sell_assets"
   ]
  },
  {
   "cell_type": "markdown",
   "metadata": {},
   "source": [
    "## 4. Results Analysis"
   ]
  },
  {
   "cell_type": "code",
   "execution_count": null,
   "metadata": {},
   "outputs": [],
   "source": [
    "plot_adjusted_residuals(risk_adjusted_residuals)"
   ]
  },
  {
   "cell_type": "markdown",
   "metadata": {},
   "source": [
    "## 5. Conclusions\n",
    "\n",
    "### Recommendations\n",
    "\n",
    "Having applied the Residual Momentum method to the available data of stocks from the New York Stock Exchange, it is suggested that stocks with higher residuals could be considered as buy candidates, as the model indicates these stocks fit better and may involve lower risk. On the other hand, stocks with lower residuals could be considered sell candidates, since the model suggests higher risk and that predictions may deviate further from actual values.\n",
    "\n",
    "### Stocks with Highest Risk-Adjusted Residuals (Buy Candidates)\n",
    "\n",
    "|  Stock  |    Risk-Adjusted Residual   |\n",
    "|---------|-----------------------------|\n",
    "|NVR      | 6.764213                    |\n",
    "|TRV      | 7.042893                    |\n",
    "|TM       | 7.539809                    |\n",
    "|CB       | 7.595617                    |\n",
    "|MUFG     | 7.903012                    |\n",
    "|AIG      | 8.021970                    |\n",
    "|ECL      | 8.083168                    |\n",
    "|ITUB     | 8.282844                    |\n",
    "|NOW      | 8.350461                    |\n",
    "|HMC      | 8.402053                    |\n",
    "|SMFG     | 8.835399                    |\n",
    "|DLR      | 9.078423                    |\n",
    "|PH       | 9.389937                    |\n",
    "|DELL     | 10.276290                   |\n",
    "|IBM      | 11.109896                   |\n",
    "|GE       | 11.745092                   |\n",
    "|UBER     | 12.721726                   |\n",
    "|WFC      | 12.728989                   |\n",
    "|MAC      | 12.949400                   |\n",
    "|MFG      | 13.019338                   |\n",
    "|MLM      | 13.536678                   |\n",
    "|PNR      | 13.629176                   |\n",
    "|LLY      | 13.706111                   |\n",
    "|HLT      | 14.804893                   |\n",
    "|TDG      | 20.630775                   |\n",
    "|JPM      | 29.856767                   |\n",
    "\n",
    "### Stocks with Lowest Risk-Adjusted Residuals (Sell Candidates)\n",
    "\n",
    "|  Stock  |    Risk-Adjusted Residual   |\n",
    "|---------|-----------------------------|\n",
    "| PFE     | -44.833280                  |\n",
    "| AMX     | -35.110769                  |\n",
    "| KO      | -28.384738                  |\n",
    "| STT     | -22.632032                  |\n",
    "| PM      | -19.269756                  |\n",
    "| MAA     | -17.624162                  |\n",
    "| ETR     | -15.904199                  |\n",
    "| ENB     | -14.801951                  |\n",
    "| UPS     | -13.890470                  |\n",
    "| EIX     | -13.580058                  |\n",
    "| MCD     | -12.531976                  |\n",
    "| BMY     | -11.902264                  |\n",
    "| LPL     | -11.729517                  |\n",
    "| ED      | -11.373881                  |\n",
    "| MO      | -11.365633                  |\n",
    "| AWK     | -11.092975                  |\n",
    "| KMB     | -10.290196                  |\n",
    "| BBY     | -10.104498                  |\n",
    "| ABEV    |  -9.971825                  |\n",
    "| CPB     |  -9.695247                  |\n",
    "| MGM     |  -9.369015                  |\n",
    "| BNS     |  -8.979885                  |\n",
    "| NKE     |  -7.966800                  |\n",
    "| JNJ     |  -7.892484                  |\n",
    "| GGB     |  -7.290168                  |\n",
    "| HDB     |  -7.116820                  |"
   ]
  }
 ],
 "metadata": {
  "kernelspec": {
   "display_name": "Python 3",
   "language": "python",
   "name": "python3"
  },
  "language_info": {
   "codemirror_mode": {
    "name": "ipython",
    "version": 3
   },
   "file_extension": ".py",
   "mimetype": "text/x-python",
   "name": "python",
   "nbconvert_exporter": "python",
   "pygments_lexer": "ipython3",
   "version": "3.11.3"
  }
 },
 "nbformat": 4,
 "nbformat_minor": 4
}
